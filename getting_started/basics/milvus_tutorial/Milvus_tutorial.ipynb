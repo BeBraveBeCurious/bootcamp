{
  "nbformat": 4,
  "nbformat_minor": 0,
  "metadata": {
    "colab": {
      "name": "Milvus_tutorial.ipynb",
      "provenance": [],
      "collapsed_sections": [
        "ypRryY27eiVj",
        "oRPsXxceets_",
        "5VYU_Vuse3du",
        "CgHV9nxip1Ki",
        "QNHMM1GZqLLe",
        "JfbcppegrYB4",
        "H6EFgdyLrd-0",
        "K_x-I2idrlSX",
        "-wbQVapprrcW",
        "zjK-yrDsrwWT",
        "W49q311Yr4ZM",
        "PUJJFWVwsCVK",
        "FHvWWc5bsGTZ"
      ]
    },
    "kernelspec": {
      "name": "python3",
      "display_name": "Python 3"
    }
  },
  "cells": [
    {
      "cell_type": "markdown",
      "metadata": {
        "id": "oty9WJMIZ0Qn",
        "colab_type": "text"
      },
      "source": [
        "This tutorial will show you how to [install Milvus from source code](https://github.com/milvus-io/milvus/blob/master/INSTALL.md) and run the [python code](https://milvus-io.github.io/milvus-sdk-python/pythondoc/v0.2.14/index.html)."
      ]
    },
    {
      "cell_type": "markdown",
      "metadata": {
        "id": "H2IqGXnWeXKq",
        "colab_type": "text"
      },
      "source": [
        "## Install Milvus from source code"
      ]
    },
    {
      "cell_type": "markdown",
      "metadata": {
        "id": "ypRryY27eiVj",
        "colab_type": "text"
      },
      "source": [
        "### Install Camke"
      ]
    },
    {
      "cell_type": "markdown",
      "metadata": {
        "id": "XV-weP8VfPSp",
        "colab_type": "text"
      },
      "source": [
        "- Get CMake 3.12 or higher. Here we get CMake 3.12."
      ]
    },
    {
      "cell_type": "code",
      "metadata": {
        "id": "2MZSKFHSQiZ0",
        "colab_type": "code",
        "colab": {}
      },
      "source": [
        "! wget https://cmake.org/files/v3.12/cmake-3.12.2-Linux-x86_64.tar.gz"
      ],
      "execution_count": null,
      "outputs": []
    },
    {
      "cell_type": "markdown",
      "metadata": {
        "id": "oS_TNprxfU6x",
        "colab_type": "text"
      },
      "source": [
        "- Extract the file and install CMake."
      ]
    },
    {
      "cell_type": "code",
      "metadata": {
        "id": "hnfbf_j2Q7n5",
        "colab_type": "code",
        "colab": {}
      },
      "source": [
        "! tar zxvf cmake-3.12.2-Linux-x86_64.tar.gz\n",
        "! mv cmake-3.12.2-Linux-x86_64 /opt/cmake-3.12.2\n",
        "! ln -sf /opt/cmake-3.12.2/bin/* /usr/bin/"
      ],
      "execution_count": null,
      "outputs": []
    },
    {
      "cell_type": "markdown",
      "metadata": {
        "id": "smpRrmoKfaGI",
        "colab_type": "text"
      },
      "source": [
        "- Show the version."
      ]
    },
    {
      "cell_type": "code",
      "metadata": {
        "id": "5JmfX4WjREQB",
        "colab_type": "code",
        "colab": {}
      },
      "source": [
        "!cmake --version"
      ],
      "execution_count": null,
      "outputs": []
    },
    {
      "cell_type": "markdown",
      "metadata": {
        "id": "oRPsXxceets_",
        "colab_type": "text"
      },
      "source": [
        "### Download the code and Compile"
      ]
    },
    {
      "cell_type": "markdown",
      "metadata": {
        "id": "6CYhW5oZf5v9",
        "colab_type": "text"
      },
      "source": [
        "Step 1 Download Milvus source code"
      ]
    },
    {
      "cell_type": "code",
      "metadata": {
        "id": "StwePnJQErfy",
        "colab_type": "code",
        "colab": {}
      },
      "source": [
        "!git clone -b 0.10.2 https://github.com/milvus-io/milvus.git"
      ],
      "execution_count": null,
      "outputs": []
    },
    {
      "cell_type": "markdown",
      "metadata": {
        "id": "dP0NOI8MgHsu",
        "colab_type": "text"
      },
      "source": [
        "Step 2 Install dependencies"
      ]
    },
    {
      "cell_type": "code",
      "metadata": {
        "id": "Sc62EtnOIqkz",
        "colab_type": "code",
        "colab": {}
      },
      "source": [
        "% cd /content/milvus/core\n",
        "! ./ubuntu_build_deps.sh"
      ],
      "execution_count": null,
      "outputs": []
    },
    {
      "cell_type": "markdown",
      "metadata": {
        "id": "AeCWtdQogQQ_",
        "colab_type": "text"
      },
      "source": [
        "Step 3 Build Milvus source code"
      ]
    },
    {
      "cell_type": "code",
      "metadata": {
        "id": "lTnn2t5TJgwT",
        "colab_type": "code",
        "colab": {}
      },
      "source": [
        "% cd /content/milvus/core  \n",
        "!ls\n",
        "!./build.sh -t Release\n",
        "# If you want to build GPU version, add -g option, and Edit the Notebook settings with GPU\n",
        "# !./build.sh -t Release -g"
      ],
      "execution_count": null,
      "outputs": []
    },
    {
      "cell_type": "markdown",
      "metadata": {
        "id": "5VYU_Vuse3du",
        "colab_type": "text"
      },
      "source": [
        "### Launch Milvus server"
      ]
    },
    {
      "cell_type": "markdown",
      "metadata": {
        "id": "uuVy15nage21",
        "colab_type": "text"
      },
      "source": [
        "Add `lib/` directory to `LD_LIBRARY_PATH`"
      ]
    },
    {
      "cell_type": "code",
      "metadata": {
        "id": "LWKTxbWB3t6k",
        "colab_type": "code",
        "colab": {}
      },
      "source": [
        "% cd /content/milvus/core/milvus\n",
        "! echo $LD_LIBRARY_PATH\n",
        "import os\n",
        "os.environ['LD_LIBRARY_PATH'] +=\":/content/milvus/core/milvus/lib\"\n",
        "! echo $LD_LIBRARY_PATH"
      ],
      "execution_count": null,
      "outputs": []
    },
    {
      "cell_type": "markdown",
      "metadata": {
        "id": "LDItQnl6gqRB",
        "colab_type": "text"
      },
      "source": [
        "Start Milvus server and hang"
      ]
    },
    {
      "cell_type": "code",
      "metadata": {
        "id": "kUP-sYY84f2w",
        "colab_type": "code",
        "colab": {}
      },
      "source": [
        "% cd scripts\n",
        "! ls\n",
        "! nohup ./start_server.sh &"
      ],
      "execution_count": null,
      "outputs": []
    },
    {
      "cell_type": "markdown",
      "metadata": {
        "id": "cc58c0UEk6yZ",
        "colab_type": "text"
      },
      "source": [
        "Show Milvus server status\n",
        "\n",
        "If you can find the following content, the Milvus server is successfully running: `Milvus server started successfully!`"
      ]
    },
    {
      "cell_type": "code",
      "metadata": {
        "id": "FPjd0KuT6RQG",
        "colab_type": "code",
        "colab": {}
      },
      "source": [
        "! ls\n",
        "! cat nohup.out"
      ],
      "execution_count": null,
      "outputs": []
    },
    {
      "cell_type": "markdown",
      "metadata": {
        "id": "_b9dnZxsfBkb",
        "colab_type": "text"
      },
      "source": [
        "## Run Python Code"
      ]
    },
    {
      "cell_type": "markdown",
      "metadata": {
        "id": "CgHV9nxip1Ki",
        "colab_type": "text"
      },
      "source": [
        "### Install Milvus Python SDK"
      ]
    },
    {
      "cell_type": "code",
      "metadata": {
        "id": "mZ5XwO5m9cO2",
        "colab_type": "code",
        "colab": {}
      },
      "source": [
        "! pip install pymilvus"
      ],
      "execution_count": null,
      "outputs": []
    },
    {
      "cell_type": "markdown",
      "metadata": {
        "id": "QNHMM1GZqLLe",
        "colab_type": "text"
      },
      "source": [
        "### Import pymilvus"
      ]
    },
    {
      "cell_type": "code",
      "metadata": {
        "id": "YjAPCIG09lKt",
        "colab_type": "code",
        "colab": {}
      },
      "source": [
        "import random\n",
        "import numpy as np\n",
        "\n",
        "from milvus import Milvus, IndexType, MetricType, Status\n",
        "\n",
        "# Milvus server IP address and port.\n",
        "# You may need to change _HOST and _PORT accordingly.\n",
        "_HOST = '127.0.0.1'\n",
        "_PORT = '19530'  # default value\n",
        "# _PORT = '19121'  # default http value\n",
        "\n",
        "# Vector parameters\n",
        "_DIM = 8  # dimension of vector\n",
        "\n",
        "_INDEX_FILE_SIZE = 32  # max file size of stored index\n",
        "\n",
        "# the demo name.\n",
        "collection_name = 'example_collection_'\n",
        "partition_tag = 'demo_tag_'\n",
        "segment_name= ''\n",
        "\n",
        "# 10 vectors with 8 dimension, per element is float32 type, vectors should be a 2-D array\n",
        "vectors = [[random.random() for _ in range(_DIM)] for _ in range(10)]\n",
        "ids = [i for i in range(10)]"
      ],
      "execution_count": null,
      "outputs": []
    },
    {
      "cell_type": "markdown",
      "metadata": {
        "id": "JfbcppegrYB4",
        "colab_type": "text"
      },
      "source": [
        "### Connect Milvus and check version"
      ]
    },
    {
      "cell_type": "code",
      "metadata": {
        "id": "XSppa-yg9oSD",
        "colab_type": "code",
        "colab": {}
      },
      "source": [
        "# Connect to Milvus Server \n",
        "milvus = Milvus(_HOST, _PORT)\n",
        "\n",
        "# Close client instance\n",
        "# milvus.close()\n",
        "\n",
        "# Returns the status of the Milvus server.\n",
        "server_status = milvus.server_status(timeout=10)\n",
        "print(server_status)"
      ],
      "execution_count": null,
      "outputs": []
    },
    {
      "cell_type": "code",
      "metadata": {
        "id": "39woJCzO9sYI",
        "colab_type": "code",
        "colab": {}
      },
      "source": [
        "# Returns the version of the client.\n",
        "client_version= milvus.client_version()\n",
        "print(client_version)\n",
        "\n",
        "# Returns the version of the Milvus server.\n",
        "server_version = milvus.server_version(timeout=10)\n",
        "print(server_version)"
      ],
      "execution_count": null,
      "outputs": []
    },
    {
      "cell_type": "markdown",
      "metadata": {
        "id": "H6EFgdyLrd-0",
        "colab_type": "text"
      },
      "source": [
        "### Check and create collection/index"
      ]
    },
    {
      "cell_type": "code",
      "metadata": {
        "id": "o-bno8kgAgPX",
        "colab_type": "code",
        "colab": {}
      },
      "source": [
        "# Checks whether a collection exists.\n",
        "milvus.has_collection(collection_name=collection_name, timeout=10)"
      ],
      "execution_count": null,
      "outputs": []
    },
    {
      "cell_type": "code",
      "metadata": {
        "id": "ODxBgrSNAsYE",
        "colab_type": "code",
        "colab": {}
      },
      "source": [
        "# Information needed to create a collection.Defult index_file_size=1024 and metric_type=MetricType.L2\n",
        "param={'collection_name':collection_name, 'dimension': _DIM, 'index_file_size': _INDEX_FILE_SIZE, 'metric_type': MetricType.L2}\n",
        "# Creates a collection.\n",
        "milvus.create_collection(param, timeout=10)"
      ],
      "execution_count": null,
      "outputs": []
    },
    {
      "cell_type": "code",
      "metadata": {
        "id": "41i7MqkqAur6",
        "colab_type": "code",
        "colab": {}
      },
      "source": [
        "# Checks whether a partition exists.\n",
        "milvus.has_partition(collection_name=collection_name, partition_tag=partition_tag)"
      ],
      "execution_count": null,
      "outputs": []
    },
    {
      "cell_type": "code",
      "metadata": {
        "id": "dBkBbsNZAwr6",
        "colab_type": "code",
        "colab": {}
      },
      "source": [
        "# Create a partition for a collection.\n",
        "milvus.create_partition(collection_name=collection_name, partition_tag=partition_tag, timeout=10)"
      ],
      "execution_count": null,
      "outputs": []
    },
    {
      "cell_type": "code",
      "metadata": {
        "id": "uo762CN5Az5y",
        "colab_type": "code",
        "colab": {}
      },
      "source": [
        "ivf_param = {'nlist': 16384}\n",
        "# Creates index for a collection.\n",
        "milvus.create_index(collection_name=collection_name, index_type=IndexType.IVF_FLAT, params=ivf_param)"
      ],
      "execution_count": null,
      "outputs": []
    },
    {
      "cell_type": "markdown",
      "metadata": {
        "id": "K_x-I2idrlSX",
        "colab_type": "text"
      },
      "source": [
        "### Insert data and flush"
      ]
    },
    {
      "cell_type": "code",
      "metadata": {
        "id": "9PU1gI4sA2Ta",
        "colab_type": "code",
        "colab": {}
      },
      "source": [
        "# Insert vectors to a collection.\n",
        "milvus.insert(collection_name=collection_name, records=vectors, ids=ids)"
      ],
      "execution_count": null,
      "outputs": []
    },
    {
      "cell_type": "code",
      "metadata": {
        "id": "XPgZV4n6A5la",
        "colab_type": "code",
        "colab": {}
      },
      "source": [
        "# Flushes vector data in one collection or multiple collections to disk.\n",
        "milvus.flush(collection_name_array=[collection_name], timeout=None)"
      ],
      "execution_count": null,
      "outputs": []
    },
    {
      "cell_type": "markdown",
      "metadata": {
        "id": "-wbQVapprrcW",
        "colab_type": "text"
      },
      "source": [
        "### Load data and search"
      ]
    },
    {
      "cell_type": "code",
      "metadata": {
        "id": "NTyK-g5cA7wZ",
        "colab_type": "code",
        "colab": {}
      },
      "source": [
        "# Loads a collection for caching.\n",
        "milvus.load_collection(collection_name=collection_name, timeout=None)"
      ],
      "execution_count": null,
      "outputs": []
    },
    {
      "cell_type": "code",
      "metadata": {
        "id": "vm8RWaZwA-eS",
        "colab_type": "code",
        "colab": {}
      },
      "source": [
        "# Search vectors in a collection.\n",
        "search_param = { \"nprobe\": 16 }\n",
        "milvus.search(collection_name=collection_name,query_records=[vectors[0]],partition_tags=None,top_k=10,params=search_param)"
      ],
      "execution_count": null,
      "outputs": []
    },
    {
      "cell_type": "markdown",
      "metadata": {
        "id": "zjK-yrDsrwWT",
        "colab_type": "text"
      },
      "source": [
        "### Get info about collection/index"
      ]
    },
    {
      "cell_type": "code",
      "metadata": {
        "id": "ai0crCJeBBpK",
        "colab_type": "code",
        "colab": {}
      },
      "source": [
        "# Returns collection list.\n",
        "milvus.list_collections(timeout=10)"
      ],
      "execution_count": null,
      "outputs": []
    },
    {
      "cell_type": "code",
      "metadata": {
        "id": "Ujw58_88BFuS",
        "colab_type": "code",
        "colab": {}
      },
      "source": [
        "# Show all partitions in a collection.\n",
        "milvus.list_partitions(collection_name=collection_name, timeout=10)"
      ],
      "execution_count": null,
      "outputs": []
    },
    {
      "cell_type": "code",
      "metadata": {
        "id": "Ym2OSR8UBJqy",
        "colab_type": "code",
        "colab": {}
      },
      "source": [
        "# Returns the number of vectors in a collection.\n",
        "milvus.count_entities(collection_name=collection_name, timeout=10)"
      ],
      "execution_count": null,
      "outputs": []
    },
    {
      "cell_type": "code",
      "metadata": {
        "id": "25Armn5YBLkW",
        "colab_type": "code",
        "colab": {}
      },
      "source": [
        "# Returns information of a collection.\n",
        "milvus.get_collection_info(collection_name=collection_name, timeout=10)"
      ],
      "execution_count": null,
      "outputs": []
    },
    {
      "cell_type": "code",
      "metadata": {
        "id": "08t78sWYBQBq",
        "colab_type": "code",
        "colab": {}
      },
      "source": [
        "# Returns collection statistics information\n",
        "milvus.get_collection_stats(collection_name=collection_name, timeout=10)"
      ],
      "execution_count": null,
      "outputs": []
    },
    {
      "cell_type": "code",
      "metadata": {
        "id": "dY9CqZ72BSYS",
        "colab_type": "code",
        "colab": {}
      },
      "source": [
        "# Show index information of a collection.\n",
        "milvus.get_index_info(collection_name=collection_name, timeout=10)"
      ],
      "execution_count": null,
      "outputs": []
    },
    {
      "cell_type": "markdown",
      "metadata": {
        "id": "W49q311Yr4ZM",
        "colab_type": "text"
      },
      "source": [
        "### Get data by ids"
      ]
    },
    {
      "cell_type": "code",
      "metadata": {
        "id": "zQ_yUHauBYeK",
        "colab_type": "code",
        "colab": {}
      },
      "source": [
        "# List the ids in segment\n",
        "# you can get the segment_name list by get_collection_stats() function.\n",
        "milvus.list_id_in_segment(collection_name =collection_name, segment_name='1600328539015368000', timeout=None)"
      ],
      "execution_count": null,
      "outputs": []
    },
    {
      "cell_type": "code",
      "metadata": {
        "id": "jmTFaoJVBc3K",
        "colab_type": "code",
        "colab": {}
      },
      "source": [
        "# Returns raw vectors according to ids, and you can get the ids list by list_id_in_segment() function.\n",
        "# ids (list) -- list of vector id\n",
        "milvus.get_entity_by_id(collection_name=collection_name, ids=[0], timeout=None)"
      ],
      "execution_count": null,
      "outputs": []
    },
    {
      "cell_type": "markdown",
      "metadata": {
        "id": "PUJJFWVwsCVK",
        "colab_type": "text"
      },
      "source": [
        "### Get and set the configurations"
      ]
    },
    {
      "cell_type": "code",
      "metadata": {
        "id": "HOVsUsPqBtDa",
        "colab_type": "code",
        "colab": {}
      },
      "source": [
        "# Gets Milvus configurations.\n",
        "milvus.get_config(parent_key='cache', child_key='cache_size')"
      ],
      "execution_count": null,
      "outputs": []
    },
    {
      "cell_type": "code",
      "metadata": {
        "id": "48hPN8UsBv4h",
        "colab_type": "code",
        "colab": {}
      },
      "source": [
        "# Sets Milvus configurations.\n",
        "milvus.set_config(parent_key='cache', child_key='cache_size', value='5G')"
      ],
      "execution_count": null,
      "outputs": []
    },
    {
      "cell_type": "markdown",
      "metadata": {
        "id": "FHvWWc5bsGTZ",
        "colab_type": "text"
      },
      "source": [
        "### Delete data/index"
      ]
    },
    {
      "cell_type": "code",
      "metadata": {
        "id": "xxqtilXbBykZ",
        "colab_type": "code",
        "colab": {}
      },
      "source": [
        "# Removes an index.\n",
        "milvus.drop_index(collection_name=collection_name, timeout=None)"
      ],
      "execution_count": null,
      "outputs": []
    },
    {
      "cell_type": "code",
      "metadata": {
        "id": "NLwaRd7aB2sS",
        "colab_type": "code",
        "colab": {}
      },
      "source": [
        "# Deletes a partition in a collection.\n",
        "milvus.drop_partition(collection_name=collection_name, partition_tag=partition_tag, timeout=None)"
      ],
      "execution_count": null,
      "outputs": []
    },
    {
      "cell_type": "code",
      "metadata": {
        "id": "lRkG85SbB5qP",
        "colab_type": "code",
        "colab": {}
      },
      "source": [
        "# Deletes vectors in a collection by vector ID.\n",
        "# id_array (list[int]) -- list of vector id\n",
        "milvus.delete_entity_by_id(collection_name=collection_name, id_array=[0], timeout=None)"
      ],
      "execution_count": null,
      "outputs": []
    },
    {
      "cell_type": "code",
      "metadata": {
        "id": "h_LRzasPB7KU",
        "colab_type": "code",
        "colab": {}
      },
      "source": [
        "# Deletes a collection by name.\n",
        "# milvus.drop_collection(collection_name=collection_name, timeout=10)"
      ],
      "execution_count": null,
      "outputs": []
    }
  ]
}